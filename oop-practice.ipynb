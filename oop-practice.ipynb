{
 "metadata": {
  "language_info": {
   "codemirror_mode": {
    "name": "ipython",
    "version": 3
   },
   "file_extension": ".py",
   "mimetype": "text/x-python",
   "name": "python",
   "nbconvert_exporter": "python",
   "pygments_lexer": "ipython3",
   "version": "3.7.1"
  },
  "orig_nbformat": 2,
  "kernelspec": {
   "name": "python371jvsc74a57bd0bbc891ddfd13a4ddcc6c53685ec79befbdda3eb40b2599230acf38b007f2b5cc",
   "display_name": "Python 3.7.1 64-bit ('base': conda)"
  }
 },
 "nbformat": 4,
 "nbformat_minor": 2,
 "cells": [
  {
   "cell_type": "code",
   "execution_count": 8,
   "metadata": {},
   "outputs": [
    {
     "output_type": "execute_result",
     "data": {
      "text/plain": [
       "'Tanjiro, the black dog says bark'"
      ]
     },
     "metadata": {},
     "execution_count": 8
    }
   ],
   "source": [
    "  \n",
    "from datetime import datetime\n",
    "\n",
    "'''\n",
    "Animal class initializes the name, color and birthday\n",
    "Use a method to set the most_common animal species to the \n",
    "        respective species' class\n",
    "'''\n",
    "class Animal:\n",
    "\n",
    "    AVAILABLE_SPECIES = []\n",
    "    TOTAL = 0\n",
    "\n",
    "    def __init__(self, name, color, birthday):\n",
    "        self.birthday = Animal.format_birthday(birthday)\n",
    "        self.name = name\n",
    "        self.color = color\n",
    "\n",
    "    @classmethod\n",
    "    def set_most_common(cls):\n",
    "        cls.most_common = None\n",
    "        for species in cls.AVAILABLE_SPECIES:\n",
    "            species_count = species.get_count()\n",
    "\n",
    "            if cls.most_common is None or species_count > cls.most_common.get_count():\n",
    "                cls.most_common = species\n",
    "    \n",
    "    @classmethod\n",
    "    def get_most_common(cls):\n",
    "        return cls.most_common\n",
    "    \n",
    "    @classmethod\n",
    "    def set_available_species(cls, species):\n",
    "        if species not in cls.AVAILABLE_SPECIES:\n",
    "            cls.AVAILABLE_SPECIES.append(species)\n",
    "    @staticmethod\n",
    "    def format_birthday(birthday):\n",
    "        return datetime.strptime(birthday, \"%m, %d, %Y\")\n",
    "\n",
    "\n",
    "'''\n",
    "Species concrete classes keep track of their count, their oldest animal,\n",
    "and makes its own sound\n",
    "'''\n",
    "class Dog(Animal):\n",
    "    \n",
    "    COUNT = 0\n",
    "    OLDEST = None\n",
    "\n",
    "    def __init__(self, name, color, birthday, owner):\n",
    "        super().__init__(name, color, birthday)\n",
    "        self._owner = owner\n",
    "        if Dog.OLDEST is None or self.birthday < Dog.OLDEST.birthday:\n",
    "            Dog.OLDEST = self\n",
    "\n",
    "        Animal.set_available_species(Dog)\n",
    " \n",
    "        Dog.COUNT += 1\n",
    "        Animal.TOTAL += 1\n",
    "\n",
    "    @classmethod\n",
    "    def get_oldest(cls):\n",
    "        return cls.OLDEST\n",
    "\n",
    "    @classmethod\n",
    "    def get_count(cls):\n",
    "        return cls.COUNT\n",
    "\n",
    "    @property\n",
    "    def owner(self):\n",
    "        return self._owner\n",
    "\n",
    "    @owner.setter\n",
    "    def owner(self, value):\n",
    "        self._owner = value\n",
    "        if value is not None:\n",
    "            print(f\"{self.name} found a new home in {value}\")\n",
    "\n",
    "    @classmethod\n",
    "    def make_sound(cls):\n",
    "        oldest = cls.OLDEST\n",
    "        return f\"{oldest.name}, the {oldest.color} dog says bark\"\n",
    "\n",
    "    def __str__(self):\n",
    "        return f\"{self.name}, the {self.color} dog says bark\"\n",
    "\n",
    "def add_animals(animals):\n",
    "\n",
    "    if len(animals) == 0:\n",
    "        print(\"Please input at least one valid animal\")\n",
    "\n",
    "    for animal in animals:        \n",
    "        name = animal.get(\"name\", None)\n",
    "        color = animal.get(\"color\", None)\n",
    "        species = animal.get(\"species\", None)\n",
    "        animal_birthday = animal.get(\"birthday\", None)\n",
    "        owner = animal.get('owner', None)\n",
    "        try:\n",
    "            birthday = Animal.format_birthday(animal_birthday)\n",
    "        except ValueError:\n",
    "            print(f\"Please check birthday format for {name}\")\n",
    "            continue\n",
    "\n",
    "        species(name=name, color=color, birthday=birthday, owner=owner)\n",
    "  \n",
    "    Animal.set_most_common()\n",
    "    most_common = Animal.get_most_common()\n",
    "    print(most_common.make_sound())\n",
    "\n",
    "dog = Dog(name=\"Tanjiro\", color=\"black\", birthday=\"04, 03, 1998\", owner=\"Jordan\")\n",
    "str(dog)\n",
    "\n"
   ]
  },
  {
   "cell_type": "code",
   "execution_count": 11,
   "metadata": {},
   "outputs": [
    {
     "output_type": "error",
     "ename": "ModuleNotFoundError",
     "evalue": "No module named 'utility'",
     "traceback": [
      "\u001b[1;31m---------------------------------------------------------------------------\u001b[0m",
      "\u001b[1;31mModuleNotFoundError\u001b[0m                       Traceback (most recent call last)",
      "\u001b[1;32m<ipython-input-11-253c48701bdf>\u001b[0m in \u001b[0;36m<module>\u001b[1;34m\u001b[0m\n\u001b[0;32m      1\u001b[0m \u001b[1;33m\u001b[0m\u001b[0m\n\u001b[1;32m----> 2\u001b[1;33m \u001b[1;32mfrom\u001b[0m \u001b[0mutility\u001b[0m \u001b[1;32mimport\u001b[0m \u001b[0mtypename\u001b[0m\u001b[1;33m\u001b[0m\u001b[1;33m\u001b[0m\u001b[0m\n\u001b[0m\u001b[0;32m      3\u001b[0m \u001b[1;33m\u001b[0m\u001b[0m\n\u001b[0;32m      4\u001b[0m \u001b[1;32mdef\u001b[0m \u001b[0mauto_repr\u001b[0m\u001b[1;33m(\u001b[0m\u001b[0mcls\u001b[0m\u001b[1;33m)\u001b[0m\u001b[1;33m:\u001b[0m\u001b[1;33m\u001b[0m\u001b[1;33m\u001b[0m\u001b[0m\n\u001b[0;32m      5\u001b[0m     \u001b[0mprint\u001b[0m\u001b[1;33m(\u001b[0m\u001b[1;34mf\"decorationg {cls.__name__} with auto_repr\"\u001b[0m\u001b[1;33m)\u001b[0m\u001b[1;33m\u001b[0m\u001b[1;33m\u001b[0m\u001b[0m\n",
      "\u001b[1;31mModuleNotFoundError\u001b[0m: No module named 'utility'"
     ]
    }
   ],
   "source": [
    "\n",
    "def auto_repr(cls):\n",
    "    print(f\"decorationg {cls.__name__} with auto_repr\")\n",
    "    members = vars(cls)\n",
    "    for name, member in members.items():\n",
    "        print(name, member)\n",
    "    \n",
    "    if \"__init__\" not in members:\n",
    "        raise TypeError(f\"{cls.__name__} does not override __init__\")\n",
    "\n",
    "    sig = inspect.signature(cls.__init__)\n",
    "    parameter_names = list(sig.parameters)[1:]\n",
    "    print(\"__init__ parameter names: \", parameter_names)\n",
    "    return cls\n",
    "\n",
    "@auto_repr\n",
    "class Location:\n",
    "\n",
    "    def __init__(self, name, position):\n",
    "        self._name = name\n",
    "        self._position = position\n",
    "\n",
    "    @property\n",
    "    def name(self):\n",
    "        return self._name\n",
    "    \n",
    "    @property\n",
    "    def position(self):\n",
    "        return self._position\n",
    "\n",
    "    def __str__(self):\n",
    "        return self.name\n",
    "\n",
    "hong_kong = Location(\"Hong Kong\", 25)"
   ]
  },
  {
   "cell_type": "code",
   "execution_count": 18,
   "metadata": {},
   "outputs": [
    {
     "output_type": "execute_result",
     "data": {
      "text/plain": [
       "Position (latitude=60.0, longitude=10.7)"
      ]
     },
     "metadata": {},
     "execution_count": 18
    }
   ],
   "source": [
    "oslo"
   ]
  },
  {
   "cell_type": "code",
   "execution_count": 22,
   "metadata": {},
   "outputs": [
    {
     "output_type": "execute_result",
     "data": {
      "text/plain": [
       "False"
      ]
     },
     "metadata": {},
     "execution_count": 22
    }
   ],
   "source": [
    "r = repr(oslo)\n",
    "p = eval(r)\n",
    "p is oslo"
   ]
  },
  {
   "cell_type": "code",
   "execution_count": null,
   "metadata": {},
   "outputs": [],
   "source": []
  }
 ]
}